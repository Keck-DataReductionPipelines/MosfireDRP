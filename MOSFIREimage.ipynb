{
 "cells": [
  {
   "cell_type": "code",
   "execution_count": 1,
   "metadata": {
    "collapsed": false
   },
   "outputs": [],
   "source": [
    "from ccdproc import CCDData\n",
    "from astropy.io import fits, registry\n",
    "from astropy import units as u\n",
    "from astropy.table import Table"
   ]
  },
  {
   "cell_type": "code",
   "execution_count": 2,
   "metadata": {
    "collapsed": false
   },
   "outputs": [],
   "source": [
    "class MOSFIREimage(CCDData):\n",
    "    '''Subclass of ccdproc.CCDData to hold a MOSFIRE image'''\n",
    "    def __init__(self, *args, **kwd):\n",
    "        super(MOSFIREimage, self).__init__(*args, **kwd)\n",
    "        self.target_list = None\n",
    "        self.ssl = None\n",
    "        self.msl = None\n",
    "        self.asl = None\n",
    "        self.target_table = None\n",
    "        self.science_slits = None\n",
    "        self.mech_slits = None\n",
    "        self.alignment_slits = None\n",
    "\n",
    "def fits_mosfire_reader(filename, unit='adu'):\n",
    "    '''Read a MOSFIRE multi-extension fits in to a MOSFIREimage object.    \n",
    "    '''\n",
    "    hdulist = fits.open(filename, 'readonly')\n",
    "    image = MOSFIREimage(hdulist[0].data, meta=hdulist[0].header, unit=unit)\n",
    "    image.target_list = hdulist[1].data\n",
    "    image.target_table = Table(image.target_list)\n",
    "    image.ssl = hdulist[2].data\n",
    "    image.science_slits = Table(image.ssl)\n",
    "    image.msl = hdulist[3].data\n",
    "    image.mech_slits = Table(image.msl)\n",
    "    image.asl = hdulist[4].data\n",
    "    image.alignment_slits = Table(image.asl)\n",
    "\n",
    "    return image\n",
    "\n",
    "registry.register_reader('fits', MOSFIREimage, fits_mosfire_reader)\n",
    "# registry.register_writer('fits', MOSFIREimage, fits_mosfire_writer)\n"
   ]
  },
  {
   "cell_type": "code",
   "execution_count": 3,
   "metadata": {
    "collapsed": false
   },
   "outputs": [],
   "source": [
    "filename = '/Volumes/Internal_1TB/MOSFIRE_Data/TestCase/DRP_Test_Case_Hband/2012sep10/m120910_0410.fits'\n",
    "im = MOSFIREimage.read(filename, unit='adu')"
   ]
  },
  {
   "cell_type": "code",
   "execution_count": 4,
   "metadata": {
    "collapsed": false
   },
   "outputs": [
    {
     "name": "stdout",
     "output_type": "stream",
     "text": [
      "<type 'numpy.ndarray'>\n"
     ]
    },
    {
     "data": {
      "text/plain": [
       "array([[ -9.5 , -15.5 , -12.5 , ...,  -2.5 ,   5.5 ,  12.5 ],\n",
       "       [-11.5 ,  -5.5 , -14.5 , ...,   4.5 ,  20.5 ,   2.5 ],\n",
       "       [-26.5 ,   2.5 , -20.5 , ...,  23.5 ,  10.5 , -18.5 ],\n",
       "       ..., \n",
       "       [ -0.25,  -9.25,   3.75, ...,  13.75,   9.75,   6.75],\n",
       "       [-24.25,  -2.25,  -8.25, ...,   7.75,  -2.25, -10.25],\n",
       "       [ -0.25,   6.75,  -2.25, ...,  -6.25,  18.75,  19.75]], dtype=float32)"
      ]
     },
     "execution_count": 4,
     "metadata": {},
     "output_type": "execute_result"
    }
   ],
   "source": [
    "# The data is an ndarray\n",
    "print(type(im.data))\n",
    "im.data"
   ]
  },
  {
   "cell_type": "code",
   "execution_count": 5,
   "metadata": {
    "collapsed": false
   },
   "outputs": [
    {
     "data": {
      "text/plain": [
       "FITS_rec([ ('TARG24', '100.00', '15.95', '22', '59', '41.38', '33', '0', '14.10', '2000.0', '2000.0'),\n",
       "       ('TARG7', '100.00', '15.41', '22', '59', '45.31', '33', '2', '17.80', '2000.0', '2000.0'),\n",
       "       ('TARG25', '100.00', '15.95', '22', '59', '48.11', '33', '0', '10.40', '2000.0', '2000.0'),\n",
       "       ('TARG11', '100.00', '15.62', '22', '59', '50.64', '32', '59', '21.60', '2000.0', '2000.0'),\n",
       "       ('TARG23', '100.00', '15.94', '22', '59', '53.98', '32', '59', '39.40', '2000.0', '2000.0'),\n",
       "       ('TARG19', '100.00', '15.86', '22', '59', '56.56', '33', '0', '30.20', '2000.0', '2000.0'),\n",
       "       ('TARG14', '100.00', '15.69', '22', '59', '57.28', '32', '59', '24.20', '2000.0', '2000.0'),\n",
       "       ('TARG12', '100.00', '15.65', '23', '0', '0.38', '33', '0', '25.30', '2000.0', '2000.0'),\n",
       "       ('TARG20', '100.00', '15.89', '23', '0', '2.64', '33', '0', '58.70', '2000.0', '2000.0'),\n",
       "       ('TARG6', '100.00', '15.38', '23', '0', '5.53', '33', '0', '40.90', '2000.0', '2000.0'),\n",
       "       ('TARG2', '100.00', '14.77', '23', '0', '9.87', '33', '0', '46.20', '2000.0', '2000.0'),\n",
       "       ('S14', '-1.00', '15.45', '22', '59', '44.90', '33', '2', '6.60', '2000.0', '2000.0'),\n",
       "       ('S3', '-1.00', '14.32', '22', '59', '52.66', '33', '2', '7.20', '2000.0', '2000.0'),\n",
       "       ('S7', '-1.00', '14.72', '22', '59', '55.60', '33', '0', '46.70', '2000.0', '2000.0'),\n",
       "       ('S15', '-1.00', '15.48', '22', '59', '54.81', '32', '59', '9.50', '2000.0', '2000.0'),\n",
       "       ('S10', '-1.00', '15.04', '22', '59', '59.67', '33', '1', '28.80', '2000.0', '2000.0'),\n",
       "       ('S4', '-1.00', '14.45', '23', '0', '6.46', '32', '59', '3.30', '2000.0', '2000.0')], \n",
       "      dtype=(numpy.record, {'names':['Target_Name','Priority','Magnitude','RA_Hours','RA_Minutes','RA_Seconds','Dec_Degrees','Dec_Minutes','Dec_Seconds','Epoch','Equinox'], 'formats':['S6','S6','S5','S2','S2','S5','S2','S2','S5','S6','S6'], 'offsets':[1,8,15,21,24,27,33,36,39,45,52], 'itemsize':58}))"
      ]
     },
     "execution_count": 5,
     "metadata": {},
     "output_type": "execute_result"
    }
   ],
   "source": [
    "# The target list is accessible as part of the im object as a FITS record (as it was before)\n",
    "im.target_list"
   ]
  },
  {
   "cell_type": "code",
   "execution_count": 6,
   "metadata": {
    "collapsed": false
   },
   "outputs": [
    {
     "data": {
      "text/html": [
       "&lt;Table length=17&gt;\n",
       "<table id=\"table4520487568\">\n",
       "<thead><tr><th>Target_Name</th><th>Priority</th><th>Magnitude</th><th>RA_Hours</th><th>RA_Minutes</th><th>RA_Seconds</th><th>Dec_Degrees</th><th>Dec_Minutes</th><th>Dec_Seconds</th><th>Epoch</th><th>Equinox</th></tr></thead>\n",
       "<thead><tr><th>str6</th><th>str6</th><th>str5</th><th>str2</th><th>str2</th><th>str5</th><th>str2</th><th>str2</th><th>str5</th><th>str6</th><th>str6</th></tr></thead>\n",
       "<tr><td>TARG24</td><td>100.00</td><td>15.95</td><td>22</td><td>59</td><td>41.38</td><td>33</td><td>0</td><td>14.10</td><td>2000.0</td><td>2000.0</td></tr>\n",
       "<tr><td>TARG7</td><td>100.00</td><td>15.41</td><td>22</td><td>59</td><td>45.31</td><td>33</td><td>2</td><td>17.80</td><td>2000.0</td><td>2000.0</td></tr>\n",
       "<tr><td>TARG25</td><td>100.00</td><td>15.95</td><td>22</td><td>59</td><td>48.11</td><td>33</td><td>0</td><td>10.40</td><td>2000.0</td><td>2000.0</td></tr>\n",
       "<tr><td>TARG11</td><td>100.00</td><td>15.62</td><td>22</td><td>59</td><td>50.64</td><td>32</td><td>59</td><td>21.60</td><td>2000.0</td><td>2000.0</td></tr>\n",
       "<tr><td>TARG23</td><td>100.00</td><td>15.94</td><td>22</td><td>59</td><td>53.98</td><td>32</td><td>59</td><td>39.40</td><td>2000.0</td><td>2000.0</td></tr>\n",
       "<tr><td>TARG19</td><td>100.00</td><td>15.86</td><td>22</td><td>59</td><td>56.56</td><td>33</td><td>0</td><td>30.20</td><td>2000.0</td><td>2000.0</td></tr>\n",
       "<tr><td>TARG14</td><td>100.00</td><td>15.69</td><td>22</td><td>59</td><td>57.28</td><td>32</td><td>59</td><td>24.20</td><td>2000.0</td><td>2000.0</td></tr>\n",
       "<tr><td>TARG12</td><td>100.00</td><td>15.65</td><td>23</td><td>0</td><td>0.38</td><td>33</td><td>0</td><td>25.30</td><td>2000.0</td><td>2000.0</td></tr>\n",
       "<tr><td>TARG20</td><td>100.00</td><td>15.89</td><td>23</td><td>0</td><td>2.64</td><td>33</td><td>0</td><td>58.70</td><td>2000.0</td><td>2000.0</td></tr>\n",
       "<tr><td>TARG6</td><td>100.00</td><td>15.38</td><td>23</td><td>0</td><td>5.53</td><td>33</td><td>0</td><td>40.90</td><td>2000.0</td><td>2000.0</td></tr>\n",
       "<tr><td>TARG2</td><td>100.00</td><td>14.77</td><td>23</td><td>0</td><td>9.87</td><td>33</td><td>0</td><td>46.20</td><td>2000.0</td><td>2000.0</td></tr>\n",
       "<tr><td>S14</td><td>-1.00</td><td>15.45</td><td>22</td><td>59</td><td>44.90</td><td>33</td><td>2</td><td>6.60</td><td>2000.0</td><td>2000.0</td></tr>\n",
       "<tr><td>S3</td><td>-1.00</td><td>14.32</td><td>22</td><td>59</td><td>52.66</td><td>33</td><td>2</td><td>7.20</td><td>2000.0</td><td>2000.0</td></tr>\n",
       "<tr><td>S7</td><td>-1.00</td><td>14.72</td><td>22</td><td>59</td><td>55.60</td><td>33</td><td>0</td><td>46.70</td><td>2000.0</td><td>2000.0</td></tr>\n",
       "<tr><td>S15</td><td>-1.00</td><td>15.48</td><td>22</td><td>59</td><td>54.81</td><td>32</td><td>59</td><td>9.50</td><td>2000.0</td><td>2000.0</td></tr>\n",
       "<tr><td>S10</td><td>-1.00</td><td>15.04</td><td>22</td><td>59</td><td>59.67</td><td>33</td><td>1</td><td>28.80</td><td>2000.0</td><td>2000.0</td></tr>\n",
       "<tr><td>S4</td><td>-1.00</td><td>14.45</td><td>23</td><td>0</td><td>6.46</td><td>32</td><td>59</td><td>3.30</td><td>2000.0</td><td>2000.0</td></tr>\n",
       "</table>"
      ],
      "text/plain": [
       "<Table length=17>\n",
       "Target_Name Priority Magnitude RA_Hours ... Dec_Seconds Epoch  Equinox\n",
       "    str6      str6      str5     str2   ...     str5     str6    str6 \n",
       "----------- -------- --------- -------- ... ----------- ------ -------\n",
       "     TARG24   100.00     15.95       22 ...       14.10 2000.0  2000.0\n",
       "     TARG7    100.00     15.41       22 ...       17.80 2000.0  2000.0\n",
       "     TARG25   100.00     15.95       22 ...       10.40 2000.0  2000.0\n",
       "     TARG11   100.00     15.62       22 ...       21.60 2000.0  2000.0\n",
       "     TARG23   100.00     15.94       22 ...       39.40 2000.0  2000.0\n",
       "     TARG19   100.00     15.86       22 ...       30.20 2000.0  2000.0\n",
       "     TARG14   100.00     15.69       22 ...       24.20 2000.0  2000.0\n",
       "     TARG12   100.00     15.65       23 ...       25.30 2000.0  2000.0\n",
       "     TARG20   100.00     15.89       23 ...       58.70 2000.0  2000.0\n",
       "     TARG6    100.00     15.38       23 ...       40.90 2000.0  2000.0\n",
       "     TARG2    100.00     14.77       23 ...       46.20 2000.0  2000.0\n",
       "     S14      -1.00      15.45       22 ...       6.60  2000.0  2000.0\n",
       "     S3       -1.00      14.32       22 ...       7.20  2000.0  2000.0\n",
       "     S7       -1.00      14.72       22 ...       46.70 2000.0  2000.0\n",
       "     S15      -1.00      15.48       22 ...       9.50  2000.0  2000.0\n",
       "     S10      -1.00      15.04       22 ...       28.80 2000.0  2000.0\n",
       "     S4       -1.00      14.45       23 ...       3.30  2000.0  2000.0"
      ]
     },
     "execution_count": 6,
     "metadata": {},
     "output_type": "execute_result"
    }
   ],
   "source": [
    "# The target list is also accessible in the more human readable astropy.table.Table format.\n",
    "im.target_table"
   ]
  },
  {
   "cell_type": "code",
   "execution_count": 7,
   "metadata": {
    "collapsed": false
   },
   "outputs": [
    {
     "data": {
      "text/html": [
       "&lt;Table length=17&gt;\n",
       "<table id=\"table4521041424\">\n",
       "<thead><tr><th>Slit_Number</th><th>Slit_RA_Hours</th><th>Slit_RA_Minutes</th><th>Slit_RA_Seconds</th><th>Slit_Dec_Degrees</th><th>Slit_Dec_Minutes</th><th>Slit_Dec_Seconds</th><th>Slit_width</th><th>Slit_length</th><th>Target_to_center_of_slit_distance</th><th>Target_Name</th><th>Target_Priority</th></tr></thead>\n",
       "<thead><tr><th>str2</th><th>str2</th><th>str2</th><th>str5</th><th>str2</th><th>str2</th><th>str5</th><th>str5</th><th>str6</th><th>str7</th><th>str6</th><th>str6</th></tr></thead>\n",
       "<tr><td>1</td><td>22</td><td>59</td><td>41.43</td><td>33</td><td>0</td><td>13.88</td><td>0.700</td><td>14.990</td><td>0.680</td><td>TARG24</td><td>100.00</td></tr>\n",
       "<tr><td>2</td><td>22</td><td>59</td><td>45.68</td><td>33</td><td>2</td><td>16.20</td><td>0.700</td><td>22.970</td><td>4.900</td><td>TARG7</td><td>100.00</td></tr>\n",
       "<tr><td>3</td><td>22</td><td>59</td><td>46.74</td><td>33</td><td>0</td><td>16.35</td><td>0.700</td><td>62.860</td><td>-18.270</td><td>TARG25</td><td>100.00</td></tr>\n",
       "<tr><td>4</td><td>22</td><td>59</td><td>50.21</td><td>32</td><td>59</td><td>23.48</td><td>0.700</td><td>46.900</td><td>-5.770</td><td>TARG11</td><td>100.00</td></tr>\n",
       "<tr><td>5</td><td>22</td><td>59</td><td>53.54</td><td>32</td><td>59</td><td>41.30</td><td>0.700</td><td>22.970</td><td>-5.840</td><td>TARG23</td><td>100.00</td></tr>\n",
       "<tr><td>6</td><td>22</td><td>59</td><td>56.85</td><td>33</td><td>0</td><td>28.93</td><td>0.700</td><td>30.950</td><td>3.900</td><td>TARG19</td><td>100.00</td></tr>\n",
       "<tr><td>7</td><td>22</td><td>59</td><td>57.43</td><td>32</td><td>59</td><td>23.55</td><td>0.700</td><td>14.990</td><td>2.000</td><td>TARG14</td><td>100.00</td></tr>\n",
       "<tr><td>8</td><td>23</td><td>0</td><td>0.39</td><td>33</td><td>0</td><td>25.27</td><td>0.700</td><td>22.970</td><td>0.090</td><td>TARG12</td><td>100.00</td></tr>\n",
       "<tr><td>9</td><td>23</td><td>0</td><td>3.03</td><td>33</td><td>0</td><td>57.00</td><td>0.700</td><td>22.970</td><td>5.220</td><td>TARG20</td><td>100.00</td></tr>\n",
       "<tr><td>10</td><td>23</td><td>0</td><td>5.33</td><td>33</td><td>0</td><td>41.75</td><td>0.700</td><td>38.930</td><td>-2.610</td><td>TARG6</td><td>100.00</td></tr>\n",
       "<tr><td>11</td><td>23</td><td>0</td><td>9.41</td><td>33</td><td>0</td><td>48.19</td><td>0.700</td><td>54.880</td><td>-6.110</td><td>TARG2</td><td>100.00</td></tr>\n",
       "<tr><td></td><td></td><td></td><td></td><td></td><td></td><td></td><td></td><td></td><td></td><td></td><td></td></tr>\n",
       "<tr><td></td><td></td><td></td><td></td><td></td><td></td><td></td><td></td><td></td><td></td><td></td><td></td></tr>\n",
       "<tr><td></td><td></td><td></td><td></td><td></td><td></td><td></td><td></td><td></td><td></td><td></td><td></td></tr>\n",
       "<tr><td></td><td></td><td></td><td></td><td></td><td></td><td></td><td></td><td></td><td></td><td></td><td></td></tr>\n",
       "<tr><td></td><td></td><td></td><td></td><td></td><td></td><td></td><td></td><td></td><td></td><td></td><td></td></tr>\n",
       "<tr><td></td><td></td><td></td><td></td><td></td><td></td><td></td><td></td><td></td><td></td><td></td><td></td></tr>\n",
       "</table>"
      ],
      "text/plain": [
       "<Table length=17>\n",
       "Slit_Number Slit_RA_Hours Slit_RA_Minutes ... Target_Name Target_Priority\n",
       "    str2         str2           str2      ...     str6          str6     \n",
       "----------- ------------- --------------- ... ----------- ---------------\n",
       "         1             22              59 ...      TARG24          100.00\n",
       "         2             22              59 ...      TARG7           100.00\n",
       "         3             22              59 ...      TARG25          100.00\n",
       "         4             22              59 ...      TARG11          100.00\n",
       "         5             22              59 ...      TARG23          100.00\n",
       "         6             22              59 ...      TARG19          100.00\n",
       "         7             22              59 ...      TARG14          100.00\n",
       "         8             23              0  ...      TARG12          100.00\n",
       "         9             23              0  ...      TARG20          100.00\n",
       "         10            23              0  ...      TARG6           100.00\n",
       "         11            23              0  ...      TARG2           100.00\n",
       "                                          ...                            \n",
       "                                          ...                            \n",
       "                                          ...                            \n",
       "                                          ...                            \n",
       "                                          ...                            \n",
       "                                          ...                            "
      ]
     },
     "execution_count": 7,
     "metadata": {},
     "output_type": "execute_result"
    }
   ],
   "source": [
    "# The science slits are available as both a FITS record and an astropy Table\n",
    "im.science_slits"
   ]
  },
  {
   "cell_type": "code",
   "execution_count": 8,
   "metadata": {
    "collapsed": false
   },
   "outputs": [
    {
     "data": {
      "text/html": [
       "&lt;Table length=46&gt;\n",
       "<table id=\"table4521203856\">\n",
       "<thead><tr><th>Slit_Number</th><th>Target_in_Slit</th><th>Target_Priority</th><th>Position_of_Slit</th><th>Slit_width</th><th>Target_to_center_of_slit_distance</th></tr></thead>\n",
       "<thead><tr><th>str2</th><th>str6</th><th>str6</th><th>str7</th><th>str5</th><th>str5</th></tr></thead>\n",
       "<tr><td>1</td><td>TARG24</td><td>100.00</td><td>-49.538</td><td>0.700</td><td>0.000</td></tr>\n",
       "<tr><td>2</td><td>TARG24</td><td>100.00</td><td>-50.096</td><td>0.700</td><td>0.000</td></tr>\n",
       "<tr><td>3</td><td>TARG7</td><td>100.00</td><td>82.727</td><td>0.700</td><td>0.000</td></tr>\n",
       "<tr><td>4</td><td>TARG7</td><td>100.00</td><td>82.169</td><td>0.700</td><td>0.000</td></tr>\n",
       "<tr><td>5</td><td>TARG7</td><td>100.00</td><td>81.611</td><td>0.700</td><td>0.000</td></tr>\n",
       "<tr><td>6</td><td>TARG25</td><td>100.00</td><td>-28.205</td><td>0.700</td><td>0.000</td></tr>\n",
       "<tr><td>7</td><td>TARG25</td><td>100.00</td><td>-28.763</td><td>0.700</td><td>0.000</td></tr>\n",
       "<tr><td>8</td><td>TARG25</td><td>100.00</td><td>-29.320</td><td>0.700</td><td>0.000</td></tr>\n",
       "<tr><td>9</td><td>TARG25</td><td>100.00</td><td>-29.878</td><td>0.700</td><td>0.000</td></tr>\n",
       "<tr><td>10</td><td>TARG25</td><td>100.00</td><td>-30.436</td><td>0.700</td><td>0.000</td></tr>\n",
       "<tr><td>...</td><td>...</td><td>...</td><td>...</td><td>...</td><td>...</td></tr>\n",
       "<tr><td>37</td><td>TARG6</td><td>100.00</td><td>54.927</td><td>0.700</td><td>0.000</td></tr>\n",
       "<tr><td>38</td><td>TARG6</td><td>100.00</td><td>54.369</td><td>0.700</td><td>0.000</td></tr>\n",
       "<tr><td>39</td><td>TARG6</td><td>100.00</td><td>53.811</td><td>0.700</td><td>0.000</td></tr>\n",
       "<tr><td>40</td><td>TARG2</td><td>100.00</td><td>76.094</td><td>0.700</td><td>0.000</td></tr>\n",
       "<tr><td>41</td><td>TARG2</td><td>100.00</td><td>75.536</td><td>0.700</td><td>0.000</td></tr>\n",
       "<tr><td>42</td><td>TARG2</td><td>100.00</td><td>74.979</td><td>0.700</td><td>0.000</td></tr>\n",
       "<tr><td>43</td><td>TARG2</td><td>100.00</td><td>74.421</td><td>0.700</td><td>0.000</td></tr>\n",
       "<tr><td>44</td><td>TARG2</td><td>100.00</td><td>73.863</td><td>0.700</td><td>0.000</td></tr>\n",
       "<tr><td>45</td><td>TARG2</td><td>100.00</td><td>73.305</td><td>0.700</td><td>0.000</td></tr>\n",
       "<tr><td>46</td><td>TARG2</td><td>100.00</td><td>72.747</td><td>0.700</td><td>0.000</td></tr>\n",
       "</table>"
      ],
      "text/plain": [
       "<Table length=46>\n",
       "Slit_Number Target_in_Slit ... Slit_width Target_to_center_of_slit_distance\n",
       "    str2         str6      ...    str5                   str5              \n",
       "----------- -------------- ... ---------- ---------------------------------\n",
       "         1          TARG24 ...      0.700                             0.000\n",
       "         2          TARG24 ...      0.700                             0.000\n",
       "         3          TARG7  ...      0.700                             0.000\n",
       "         4          TARG7  ...      0.700                             0.000\n",
       "         5          TARG7  ...      0.700                             0.000\n",
       "         6          TARG25 ...      0.700                             0.000\n",
       "         7          TARG25 ...      0.700                             0.000\n",
       "         8          TARG25 ...      0.700                             0.000\n",
       "         9          TARG25 ...      0.700                             0.000\n",
       "         10         TARG25 ...      0.700                             0.000\n",
       "        ...            ... ...        ...                               ...\n",
       "         37         TARG6  ...      0.700                             0.000\n",
       "         38         TARG6  ...      0.700                             0.000\n",
       "         39         TARG6  ...      0.700                             0.000\n",
       "         40         TARG2  ...      0.700                             0.000\n",
       "         41         TARG2  ...      0.700                             0.000\n",
       "         42         TARG2  ...      0.700                             0.000\n",
       "         43         TARG2  ...      0.700                             0.000\n",
       "         44         TARG2  ...      0.700                             0.000\n",
       "         45         TARG2  ...      0.700                             0.000\n",
       "         46         TARG2  ...      0.700                             0.000"
      ]
     },
     "execution_count": 8,
     "metadata": {},
     "output_type": "execute_result"
    }
   ],
   "source": [
    "# The mechanical slits are available as both a FITS record and an astropy Table\n",
    "im.mech_slits"
   ]
  },
  {
   "cell_type": "code",
   "execution_count": 9,
   "metadata": {
    "collapsed": false
   },
   "outputs": [
    {
     "data": {
      "text/html": [
       "&lt;Table length=6&gt;\n",
       "<table id=\"table4521205520\">\n",
       "<thead><tr><th>Slit_Number</th><th>Position_of_Slit</th><th>Slit_width</th><th>Target_to_center_of_slit_distance</th><th>Target_in_Slit</th><th>Target_Priority</th><th>Target_Magnitude</th><th>Target_RA_Hours</th><th>Target_RA_Minutes</th><th>Target_RA_Seconds</th><th>Target_Dec_Degrees</th><th>Target_Dec_Minutes</th><th>Target_Dec_Seconds</th><th>Target_Epoch</th><th>Target_Equinox</th></tr></thead>\n",
       "<thead><tr><th>str2</th><th>str7</th><th>str5</th><th>str6</th><th>str3</th><th>str5</th><th>str5</th><th>str2</th><th>str2</th><th>str5</th><th>str2</th><th>str2</th><th>str5</th><th>str6</th><th>str6</th></tr></thead>\n",
       "<tr><td>3</td><td>70.428</td><td>4.000</td><td>-1.010</td><td>S14</td><td>-1.00</td><td>15.45</td><td>22</td><td>59</td><td>44.90</td><td>33</td><td>2</td><td>6.60</td><td>2000.0</td><td>2000.0</td></tr>\n",
       "<tr><td>15</td><td>96.160</td><td>4.000</td><td>0.600</td><td>S3</td><td>-1.00</td><td>14.32</td><td>22</td><td>59</td><td>52.66</td><td>33</td><td>2</td><td>7.20</td><td>2000.0</td><td>2000.0</td></tr>\n",
       "<tr><td>22</td><td>28.025</td><td>4.000</td><td>-0.120</td><td>S7</td><td>-1.00</td><td>14.72</td><td>22</td><td>59</td><td>55.60</td><td>33</td><td>0</td><td>46.70</td><td>2000.0</td><td>2000.0</td></tr>\n",
       "<tr><td>24</td><td>-68.463</td><td>4.000</td><td>0.280</td><td>S15</td><td>-1.00</td><td>15.48</td><td>22</td><td>59</td><td>54.81</td><td>32</td><td>59</td><td>9.50</td><td>2000.0</td><td>2000.0</td></tr>\n",
       "<tr><td>27</td><td>81.849</td><td>4.000</td><td>1.220</td><td>S10</td><td>-1.00</td><td>15.04</td><td>22</td><td>59</td><td>59.67</td><td>33</td><td>1</td><td>28.80</td><td>2000.0</td><td>2000.0</td></tr>\n",
       "<tr><td>42</td><td>-36.552</td><td>4.000</td><td>0.730</td><td>S4</td><td>-1.00</td><td>14.45</td><td>23</td><td>0</td><td>6.46</td><td>32</td><td>59</td><td>3.30</td><td>2000.0</td><td>2000.0</td></tr>\n",
       "</table>"
      ],
      "text/plain": [
       "<Table length=6>\n",
       "Slit_Number Position_of_Slit Slit_width ... Target_Epoch Target_Equinox\n",
       "    str2          str7          str5    ...     str6          str6     \n",
       "----------- ---------------- ---------- ... ------------ --------------\n",
       "         3           70.428       4.000 ...       2000.0         2000.0\n",
       "         15          96.160       4.000 ...       2000.0         2000.0\n",
       "         22          28.025       4.000 ...       2000.0         2000.0\n",
       "         24          -68.463      4.000 ...       2000.0         2000.0\n",
       "         27          81.849       4.000 ...       2000.0         2000.0\n",
       "         42          -36.552      4.000 ...       2000.0         2000.0"
      ]
     },
     "execution_count": 9,
     "metadata": {},
     "output_type": "execute_result"
    }
   ],
   "source": [
    "# The alignment slits are available as both a FITS record and an astropy Table\n",
    "im.alignment_slits"
   ]
  },
  {
   "cell_type": "code",
   "execution_count": 10,
   "metadata": {
    "collapsed": false
   },
   "outputs": [],
   "source": [
    "filename2 = '/Volumes/Internal_1TB/MOSFIRE_Data/TestCase/DRP_Test_Case_Hband/2012sep10/m120910_0411.fits'\n",
    "im2 = MOSFIREimage.read(filename2, unit='adu')"
   ]
  },
  {
   "cell_type": "code",
   "execution_count": 11,
   "metadata": {
    "collapsed": true
   },
   "outputs": [],
   "source": [
    "sum = im.add(im2)"
   ]
  },
  {
   "cell_type": "code",
   "execution_count": 12,
   "metadata": {
    "collapsed": false
   },
   "outputs": [
    {
     "name": "stdout",
     "output_type": "stream",
     "text": [
      "14858.5\n",
      "16313.3\n",
      "31171.9\n"
     ]
    }
   ],
   "source": [
    "#print out mean levels to confirm sum\n",
    "print(im.data.mean())\n",
    "print(im2.data.mean())\n",
    "print(sum.data.mean())"
   ]
  },
  {
   "cell_type": "code",
   "execution_count": 13,
   "metadata": {
    "collapsed": false
   },
   "outputs": [
    {
     "name": "stdout",
     "output_type": "stream",
     "text": [
      "-1454.8\n"
     ]
    }
   ],
   "source": [
    "diff = im.subtract(im2)\n",
    "print(diff.data.mean())"
   ]
  },
  {
   "cell_type": "code",
   "execution_count": null,
   "metadata": {
    "collapsed": false
   },
   "outputs": [],
   "source": []
  },
  {
   "cell_type": "code",
   "execution_count": null,
   "metadata": {
    "collapsed": false
   },
   "outputs": [],
   "source": []
  },
  {
   "cell_type": "code",
   "execution_count": null,
   "metadata": {
    "collapsed": true
   },
   "outputs": [],
   "source": []
  }
 ],
 "metadata": {
  "kernelspec": {
   "display_name": "Python 2",
   "language": "python",
   "name": "python2"
  },
  "language_info": {
   "codemirror_mode": {
    "name": "ipython",
    "version": 2
   },
   "file_extension": ".py",
   "mimetype": "text/x-python",
   "name": "python",
   "nbconvert_exporter": "python",
   "pygments_lexer": "ipython2",
   "version": "2.7.11"
  }
 },
 "nbformat": 4,
 "nbformat_minor": 0
}
